{
 "cells": [
  {
   "cell_type": "markdown",
   "metadata": {},
   "source": [
    "# <span style=\"color:#8B0000\"><b>String Manipulation and Functions</b></span> "
   ]
  },
  {
   "cell_type": "markdown",
   "metadata": {},
   "source": [
    "### <span style=\"color:#8B0000\"><b>String Manipulation</b></span> \n",
    "\n",
    "<p> <span style=\"color:#00008B\">Comparisions ==, >=, <= etc. can be applied on string</span> </p>\n",
    "\n",
    "#### <span style=\"color:#8B0000\"><b>len()</b></span>  "
   ]
  },
  {
   "cell_type": "code",
   "execution_count": 5,
   "metadata": {},
   "outputs": [
    {
     "name": "stdout",
     "output_type": "stream",
     "text": [
      "7\n",
      "K\n",
      "p\n",
      "p\n",
      "e\n",
      "K\n"
     ]
    },
    {
     "ename": "IndexError",
     "evalue": "string index out of range",
     "output_type": "error",
     "traceback": [
      "\u001b[1;31m---------------------------------------------------------------------------\u001b[0m",
      "\u001b[1;31mIndexError\u001b[0m                                Traceback (most recent call last)",
      "\u001b[1;32m<ipython-input-5-ab53744dd234>\u001b[0m in \u001b[0;36m<module>\u001b[1;34m\u001b[0m\n\u001b[0;32m      6\u001b[0m \u001b[0mprint\u001b[0m\u001b[1;33m(\u001b[0m\u001b[0ms\u001b[0m\u001b[1;33m[\u001b[0m\u001b[1;33m-\u001b[0m\u001b[1;36m2\u001b[0m\u001b[1;33m]\u001b[0m\u001b[1;33m)\u001b[0m\u001b[1;33m\u001b[0m\u001b[1;33m\u001b[0m\u001b[0m\n\u001b[0;32m      7\u001b[0m \u001b[0mprint\u001b[0m\u001b[1;33m(\u001b[0m\u001b[0ms\u001b[0m\u001b[1;33m[\u001b[0m\u001b[1;33m-\u001b[0m\u001b[1;36m7\u001b[0m\u001b[1;33m]\u001b[0m\u001b[1;33m)\u001b[0m\u001b[1;33m\u001b[0m\u001b[1;33m\u001b[0m\u001b[0m\n\u001b[1;32m----> 8\u001b[1;33m \u001b[0mprint\u001b[0m\u001b[1;33m(\u001b[0m\u001b[0ms\u001b[0m\u001b[1;33m[\u001b[0m\u001b[1;36m7\u001b[0m\u001b[1;33m]\u001b[0m\u001b[1;33m)\u001b[0m\u001b[1;33m\u001b[0m\u001b[1;33m\u001b[0m\u001b[0m\n\u001b[0m",
      "\u001b[1;31mIndexError\u001b[0m: string index out of range"
     ]
    }
   ],
   "source": [
    "s = \"Kuldeep\"\n",
    "print(len(s))\n",
    "print(s[0])\n",
    "print(s[6])\n",
    "print(s[-1])\n",
    "print(s[-2])\n",
    "print(s[-7])\n",
    "print(s[7])"
   ]
  },
  {
   "cell_type": "markdown",
   "metadata": {},
   "source": [
    "#### <p> <span style=\"color:#8B0000\"><b>String slicing</b></span> </p>  "
   ]
  },
  {
   "cell_type": "code",
   "execution_count": 17,
   "metadata": {},
   "outputs": [
    {
     "name": "stdout",
     "output_type": "stream",
     "text": [
      "Kulde\n",
      "peedluK\n",
      "peedluK\n",
      "el\n"
     ]
    }
   ],
   "source": [
    "s = \"Kuldeep\"\n",
    "print(s[0:len(s)-2:1])\n",
    "print(s[-1:-(len(s)+1):-1])\n",
    "print(s[::-1])\n",
    "print(s[4:1:-2])"
   ]
  },
  {
   "cell_type": "code",
   "execution_count": 18,
   "metadata": {},
   "outputs": [
    {
     "ename": "TypeError",
     "evalue": "'str' object does not support item assignment",
     "output_type": "error",
     "traceback": [
      "\u001b[1;31m---------------------------------------------------------------------------\u001b[0m",
      "\u001b[1;31mTypeError\u001b[0m                                 Traceback (most recent call last)",
      "\u001b[1;32m<ipython-input-18-4785e5835271>\u001b[0m in \u001b[0;36m<module>\u001b[1;34m\u001b[0m\n\u001b[0;32m      1\u001b[0m \u001b[1;31m# Strings are \"immutable\"\u001b[0m\u001b[1;33m\u001b[0m\u001b[1;33m\u001b[0m\u001b[1;33m\u001b[0m\u001b[0m\n\u001b[1;32m----> 2\u001b[1;33m \u001b[0ms\u001b[0m\u001b[1;33m[\u001b[0m\u001b[1;36m0\u001b[0m\u001b[1;33m]\u001b[0m \u001b[1;33m=\u001b[0m \u001b[1;34m's'\u001b[0m\u001b[1;33m\u001b[0m\u001b[1;33m\u001b[0m\u001b[0m\n\u001b[0m\u001b[0;32m      3\u001b[0m \u001b[0mprint\u001b[0m\u001b[1;33m(\u001b[0m\u001b[0ms\u001b[0m\u001b[1;33m)\u001b[0m\u001b[1;33m\u001b[0m\u001b[1;33m\u001b[0m\u001b[0m\n",
      "\u001b[1;31mTypeError\u001b[0m: 'str' object does not support item assignment"
     ]
    }
   ],
   "source": [
    "# Strings are \"immutable\"\n",
    "s[0] = 's'\n",
    "print(s)"
   ]
  },
  {
   "cell_type": "code",
   "execution_count": 19,
   "metadata": {},
   "outputs": [
    {
     "name": "stdout",
     "output_type": "stream",
     "text": [
      "Auldeep\n"
     ]
    }
   ],
   "source": [
    "s  = 'A' + s[1:len(s):1]\n",
    "print(s)"
   ]
  },
  {
   "cell_type": "markdown",
   "metadata": {},
   "source": [
    "#### <p> <span style=\"color:#8B0000\"><b>for loop with the strings </b></span> </p> "
   ]
  },
  {
   "cell_type": "code",
   "execution_count": 21,
   "metadata": {},
   "outputs": [
    {
     "name": "stdout",
     "output_type": "stream",
     "text": [
      "The letter at 1 is an vowel.\n",
      "The letter at 4 is an vowel.\n",
      "The letter at 5 is an vowel.\n"
     ]
    }
   ],
   "source": [
    "for index in range(len(s)):\n",
    "    if s[index] == 'a' or s[index] == 'e' or s[index] == 'i' or s[index] == 'o' or s[index] == 'u':\n",
    "        print(f'The letter at {index} is an vowel.')\n",
    "    "
   ]
  },
  {
   "cell_type": "code",
   "execution_count": 23,
   "metadata": {},
   "outputs": [
    {
     "name": "stdout",
     "output_type": "stream",
     "text": [
      "The letter is an vowel.\n",
      "The letter is an vowel.\n",
      "The letter is an vowel.\n",
      "1\n"
     ]
    }
   ],
   "source": [
    "for char in s:\n",
    "    if char == 'a' or char == 'e' or char == 'i' or char == 'o' or char == 'u':\n",
    "        print(f'The letter is an vowel.')\n",
    "\n",
    "print(s.index('u'))"
   ]
  },
  {
   "cell_type": "code",
   "execution_count": 24,
   "metadata": {},
   "outputs": [
    {
     "name": "stdout",
     "output_type": "stream",
     "text": [
      "Wow,  d  exists in  abcdABCD\n",
      "Kuldeep  !!!\n",
      "Kuldeep  !!!\n",
      "Kuldeep  !!!\n",
      "Kuldeep  !!!\n",
      "Kuldeep  !!!\n"
     ]
    }
   ],
   "source": [
    "check_word = \"abcdABCD\"\n",
    "word = input(\"Enter the word you like: \")\n",
    "times = int(input(\"Enter the number of the times the word to be printed: \"))\n",
    "\n",
    "for char in word:\n",
    "    if char in check_word:\n",
    "        print(\"Wow, \", char,\" exists in \",check_word)\n",
    "\n",
    "for i in range(times):\n",
    "    print(word,\" !!!\")"
   ]
  },
  {
   "cell_type": "code",
   "execution_count": 27,
   "metadata": {},
   "outputs": [
    {
     "name": "stdout",
     "output_type": "stream",
     "text": [
      "Cube root of -8 is -2.\n"
     ]
    }
   ],
   "source": [
    "cube = -8\n",
    "for check in range(abs(cube)+1):\n",
    "    if check**3 >= abs(cube):\n",
    "        break\n",
    "\n",
    "if check**3 != abs(cube):\n",
    "    print(f'{cube} is not a perfect cube.')\n",
    "else:\n",
    "    if cube<0:\n",
    "        check = -check\n",
    "    print(f'Cube root of {cube} is {check}.')\n",
    "\n"
   ]
  },
  {
   "cell_type": "markdown",
   "metadata": {},
   "source": [
    "#### <p> <span style=\"color:#8B0000\"><b>Approximation</b></span> </p> "
   ]
  },
  {
   "cell_type": "code",
   "execution_count": 28,
   "metadata": {},
   "outputs": [
    {
     "name": "stdout",
     "output_type": "stream",
     "text": [
      "num_guesses = 29997\n",
      "2.999700000001906 is close to the cube root of 27\n"
     ]
    }
   ],
   "source": [
    "cube = 27\n",
    "epsilon = 0.01\n",
    "guess = 0.0\n",
    "increment = 0.0001\n",
    "num_guesses = 0\n",
    "while abs(guess**3 - cube) >= epsilon and guess <= cube:\n",
    "    guess += increment\n",
    "    num_guesses += 1\n",
    "print('num_guesses =', num_guesses)\n",
    "if abs(guess**3 - cube) >= epsilon:\n",
    "    print('Failed on cube root of', cube)\n",
    "else:\n",
    "    print(guess, 'is close to the cube root of', cube)\n"
   ]
  },
  {
   "cell_type": "markdown",
   "metadata": {},
   "source": [
    "### <span style=\"color:#8B0000\"><b>Decomposition, Abstraction and Functions</b></span> \n",
    "\n",
    "<p> <span style=\"color:#00008B\"><b>Decomposition</b> of code can be done using modules which are: <br></span></p>\n",
    "\n",
    "\n",
    "\n",
    "* <span style=\"color:#00008B\">Self contained </span>\n",
    "* <span style=\"color:#00008B\">Used to Breakup the code </span>\n",
    "* <span style=\"color:#00008B\">Intended to be reused </span>\n",
    "* <span style=\"color:#00008B\">Keep code organised  </span>\n",
    "* <span style=\"color:#00008B\">Keep code coherent  </span>\n",
    "\n",
    "<p> <span style=\"color:#00008B\">\n",
    "Decomposition is possible using the functions and classes.\n",
    "</span> </p>\n",
    "\n",
    "<p> <span style=\"color:#00008B\">\n",
    "<b>Abstraction</b> of the piece of code can be achieved with function specifications or docstrings.\n",
    "\n",
    "</span> </p>\n",
    "\n",
    "\n",
    "#### <span style=\"color:#8B0000\"><b>Functions:</b></span> \n",
    "<b>Write reusable pieces/chunks of code, called functions</b>\n",
    "\n",
    "* Functions are not run in a program until they are “called” or “invoked” in a program <br>\n",
    "\n",
    "##### Function characteristics:\n",
    "* has a name\n",
    "* has parameters (0 or more)\n",
    "* has a docstring (optional but recommended)\n",
    "* has a body\n",
    "* returns something\n",
    "\n",
    "\n",
    "\n",
    "\n",
    "\n",
    "\n",
    "\n"
   ]
  },
  {
   "cell_type": "code",
   "execution_count": 3,
   "metadata": {},
   "outputs": [
    {
     "name": "stdout",
     "output_type": "stream",
     "text": [
      "Inside is_even\n",
      "False\n"
     ]
    }
   ],
   "source": [
    "def is_even( i ):\n",
    "    #Keyword Name Parameters/Arguments\n",
    "    #Docstring, specification\n",
    "    \"\"\"\n",
    "    Input: i, a positive int\n",
    "    Returns True if i is even, otherwise False\n",
    "    \"\"\"\n",
    "    #Body\n",
    "    print(\"Inside is_even\")\n",
    "    # return => keyword, expression to return\n",
    "    return i%2 == 0\n",
    "print(is_even(3))"
   ]
  },
  {
   "cell_type": "markdown",
   "metadata": {},
   "source": [
    "#### <span style=\"color:#8B0000\"><b>Variable Scope</b></span> \n",
    "\n",
    "* Formal parameter gets bound to the value of actual parameter when function is called \n",
    "* new scope/frame/environment created when enter a function\n",
    "* scope is mapping of names to objects\n",
    "\n",
    " <p> <b>Python returns the value None, if no return given</b></p>"
   ]
  },
  {
   "cell_type": "code",
   "execution_count": 5,
   "metadata": {},
   "outputs": [
    {
     "name": "stdout",
     "output_type": "stream",
     "text": [
      "in f(x): x = 4\n"
     ]
    }
   ],
   "source": [
    "def f( x ):\n",
    "    x = x + 1\n",
    "    print('in f(x): x =', x)\n",
    "    return x\n",
    "x = 3\n",
    "z = f( x )"
   ]
  },
  {
   "cell_type": "markdown",
   "metadata": {},
   "source": [
    "#### <span style=\"color:#8B0000\"><b>Function as argument</b></span> "
   ]
  },
  {
   "cell_type": "code",
   "execution_count": 8,
   "metadata": {},
   "outputs": [
    {
     "name": "stdout",
     "output_type": "stream",
     "text": [
      "inside func_a\n",
      "None\n",
      "inside func_b\n",
      "7\n",
      "inside func_c\n",
      "inside func_a\n",
      "None\n"
     ]
    }
   ],
   "source": [
    "def func_a():\n",
    "    print('inside func_a')\n",
    "\n",
    "def func_b(y):\n",
    "    print('inside func_b')\n",
    "    return y\n",
    "def func_c(z):\n",
    "    print('inside func_c')\n",
    "    return z()\n",
    "\n",
    "print(func_a())\n",
    "print(5 + func_b(2))\n",
    "print(func_c(func_a))"
   ]
  },
  {
   "cell_type": "markdown",
   "metadata": {},
   "source": [
    "<p> Inside a function, can access a variable defined outside </p>"
   ]
  },
  {
   "cell_type": "code",
   "execution_count": 9,
   "metadata": {},
   "outputs": [
    {
     "name": "stdout",
     "output_type": "stream",
     "text": [
      "2\n",
      "5\n"
     ]
    }
   ],
   "source": [
    "def f(y):\n",
    "    #x is redefined in the scope of f\n",
    "    x = 1\n",
    "    x += 1\n",
    "    print(x)\n",
    "x = 5\n",
    "f(x)\n",
    "print(x)"
   ]
  },
  {
   "cell_type": "markdown",
   "metadata": {},
   "source": [
    "<p>Inside a function, cannot modify a variable defined outside - can using global variables, but frowned upon</p>"
   ]
  },
  {
   "cell_type": "code",
   "execution_count": 10,
   "metadata": {},
   "outputs": [
    {
     "name": "stdout",
     "output_type": "stream",
     "text": [
      "5\n",
      "6\n",
      "5\n"
     ]
    }
   ],
   "source": [
    "def g(y):\n",
    "    #x is defined outside of the function\n",
    "    print(x)\n",
    "    print(x + 1)\n",
    "x = 5\n",
    "g(x)\n",
    "print(x)"
   ]
  },
  {
   "cell_type": "code",
   "execution_count": 11,
   "metadata": {},
   "outputs": [
    {
     "ename": "UnboundLocalError",
     "evalue": "local variable 'x' referenced before assignment",
     "output_type": "error",
     "traceback": [
      "\u001b[1;31m---------------------------------------------------------------------------\u001b[0m",
      "\u001b[1;31mUnboundLocalError\u001b[0m                         Traceback (most recent call last)",
      "\u001b[1;32m<ipython-input-11-a87ca0542697>\u001b[0m in \u001b[0;36m<module>\u001b[1;34m\u001b[0m\n\u001b[0;32m      3\u001b[0m \u001b[1;33m\u001b[0m\u001b[0m\n\u001b[0;32m      4\u001b[0m \u001b[0mx\u001b[0m \u001b[1;33m=\u001b[0m \u001b[1;36m5\u001b[0m\u001b[1;33m\u001b[0m\u001b[1;33m\u001b[0m\u001b[0m\n\u001b[1;32m----> 5\u001b[1;33m \u001b[0mh\u001b[0m\u001b[1;33m(\u001b[0m\u001b[0mx\u001b[0m\u001b[1;33m)\u001b[0m\u001b[1;33m\u001b[0m\u001b[1;33m\u001b[0m\u001b[0m\n\u001b[0m\u001b[0;32m      6\u001b[0m \u001b[0mprint\u001b[0m\u001b[1;33m(\u001b[0m\u001b[0mx\u001b[0m\u001b[1;33m)\u001b[0m\u001b[1;33m\u001b[0m\u001b[1;33m\u001b[0m\u001b[0m\n",
      "\u001b[1;32m<ipython-input-11-a87ca0542697>\u001b[0m in \u001b[0;36mh\u001b[1;34m(y)\u001b[0m\n\u001b[0;32m      1\u001b[0m \u001b[1;32mdef\u001b[0m \u001b[0mh\u001b[0m\u001b[1;33m(\u001b[0m\u001b[0my\u001b[0m\u001b[1;33m)\u001b[0m\u001b[1;33m:\u001b[0m\u001b[1;33m\u001b[0m\u001b[1;33m\u001b[0m\u001b[0m\n\u001b[1;32m----> 2\u001b[1;33m     \u001b[0mx\u001b[0m \u001b[1;33m+=\u001b[0m \u001b[1;36m1\u001b[0m\u001b[1;33m\u001b[0m\u001b[1;33m\u001b[0m\u001b[0m\n\u001b[0m\u001b[0;32m      3\u001b[0m \u001b[1;33m\u001b[0m\u001b[0m\n\u001b[0;32m      4\u001b[0m \u001b[0mx\u001b[0m \u001b[1;33m=\u001b[0m \u001b[1;36m5\u001b[0m\u001b[1;33m\u001b[0m\u001b[1;33m\u001b[0m\u001b[0m\n\u001b[0;32m      5\u001b[0m \u001b[0mh\u001b[0m\u001b[1;33m(\u001b[0m\u001b[0mx\u001b[0m\u001b[1;33m)\u001b[0m\u001b[1;33m\u001b[0m\u001b[1;33m\u001b[0m\u001b[0m\n",
      "\u001b[1;31mUnboundLocalError\u001b[0m: local variable 'x' referenced before assignment"
     ]
    }
   ],
   "source": [
    "def h(y):\n",
    "    x += 1\n",
    "\n",
    "x = 5\n",
    "h(x)\n",
    "print(x)"
   ]
  }
 ],
 "metadata": {
  "interpreter": {
   "hash": "6d46af94c2bbce495f1e668725902fa517c90b1782bcfe2fce0dd9868df553d3"
  },
  "kernelspec": {
   "display_name": "Python 3.8.10 64-bit ('base': conda)",
   "language": "python",
   "name": "python3"
  },
  "language_info": {
   "codemirror_mode": {
    "name": "ipython",
    "version": 3
   },
   "file_extension": ".py",
   "mimetype": "text/x-python",
   "name": "python",
   "nbconvert_exporter": "python",
   "pygments_lexer": "ipython3",
   "version": "3.8.10"
  },
  "orig_nbformat": 4
 },
 "nbformat": 4,
 "nbformat_minor": 2
}
