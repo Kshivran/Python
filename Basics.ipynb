{
 "cells": [
  {
   "cell_type": "markdown",
   "metadata": {},
   "source": [
    "# Learn Python"
   ]
  },
  {
   "cell_type": "markdown",
   "metadata": {},
   "source": [
    "### Scalar Objects\n",
    "* int – represent integers, ex. 5\n",
    "* float – represent real numbers, ex. 3.27\n",
    "* bool – represent Boolean values True and False\n",
    "* NoneType – special and has one value, None\n",
    "* Function - type(); To see the type of an object"
   ]
  },
  {
   "cell_type": "code",
   "execution_count": 1,
   "metadata": {},
   "outputs": [
    {
     "name": "stdout",
     "output_type": "stream",
     "text": [
      "<class 'int'>\n",
      "<class 'float'>\n",
      "<class 'bool'>\n"
     ]
    }
   ],
   "source": [
    "a = 5\n",
    "print(type(a))\n",
    "b = 5.3\n",
    "print(type(b))\n",
    "c = True\n",
    "print(type(c))"
   ]
  },
  {
   "cell_type": "markdown",
   "metadata": {},
   "source": [
    "### Type Conversion (CAST)"
   ]
  },
  {
   "cell_type": "code",
   "execution_count": 5,
   "metadata": {},
   "outputs": [
    {
     "name": "stdout",
     "output_type": "stream",
     "text": [
      "5\n",
      "5.0\n",
      "<class 'float'>\n"
     ]
    }
   ],
   "source": [
    "print(a)\n",
    "print(float(a))\n",
    "print(type(float(a)))"
   ]
  },
  {
   "cell_type": "markdown",
   "metadata": {},
   "source": [
    "### Expressions\n",
    "* Combine objects and operators to form expressions\n",
    "* An expression has a value, which has a type\n",
    "* Syntax for a simple expression    \n",
    "     $<object>  <operator>  <object>$\n",
    "\n",
    "### OPERATORS ON ints and floats\n",
    "* i+j -> the sum\n",
    "* i-j -> the difference\n",
    "* i*j -> the product\n",
    "* i/j -> division\n",
    "* i%j -> the remainder when i is divided by j\n",
    "* i**j -> i to the power of j\n",
    "\n",
    "### Operator Precedence\n",
    "* PEDMAS \n",
    "* https://pythongeeks.org/python-operator-precedence/\n",
    "\n",
    "### Assignment: Binding Values with Variables \n",
    "$pi = 3.14159 $ <br> Where, pi - Variable <br>3.14159 - Value<br>=  - Assignment "
   ]
  },
  {
   "cell_type": "code",
   "execution_count": 5,
   "metadata": {},
   "outputs": [
    {
     "name": "stdout",
     "output_type": "stream",
     "text": [
      "Radius = 2.2,  Area= 15.205295600000001\n",
      "New Radius = 3.2\n"
     ]
    }
   ],
   "source": [
    "pi = 3.14159\n",
    "radius = 2.2\n",
    "# area of circle\n",
    "area = pi*(radius**2)\n",
    "print(f'Radius = {radius},  Area= {area}')\n",
    "radius += 1\n",
    "print(f'New Radius = {radius}')\n"
   ]
  },
  {
   "cell_type": "markdown",
   "metadata": {},
   "source": [
    "### STRINGS\n",
    "* letters, special characters, spaces, digits\n",
    "* enclose in quotation marks or single quotes <br>\n",
    "hi = \"hello there\""
   ]
  },
  {
   "cell_type": "code",
   "execution_count": 7,
   "metadata": {},
   "outputs": [
    {
     "name": "stdout",
     "output_type": "stream",
     "text": [
      "Hello There\n"
     ]
    }
   ],
   "source": [
    "hi = \"Hello There\"\n",
    "print(hi)"
   ]
  },
  {
   "cell_type": "markdown",
   "metadata": {},
   "source": [
    "* Concatenate strings"
   ]
  },
  {
   "cell_type": "code",
   "execution_count": 8,
   "metadata": {},
   "outputs": [
    {
     "name": "stdout",
     "output_type": "stream",
     "text": [
      "Hello ThereKuldeep\n",
      "Hello There Kuldeep\n",
      "Hello There KuldeepKuldeepKuldeep\n"
     ]
    }
   ],
   "source": [
    "name = \"Kuldeep\"\n",
    "greet = hi + name\n",
    "print(greet)\n",
    "greeting = hi + \" \" + name\n",
    "print(greeting)\n",
    "silly = hi + \" \" + name * 3\n",
    "print(silly)"
   ]
  },
  {
   "cell_type": "markdown",
   "metadata": {},
   "source": [
    "### Input /Output"
   ]
  },
  {
   "cell_type": "markdown",
   "metadata": {},
   "source": [
    "#### print()"
   ]
  },
  {
   "cell_type": "code",
   "execution_count": 10,
   "metadata": {},
   "outputs": [
    {
     "name": "stdout",
     "output_type": "stream",
     "text": [
      "1\n",
      "my fav num is 1 . x = 1\n",
      "my fav num is 1. x = 1\n"
     ]
    }
   ],
   "source": [
    "x = 1\n",
    "print(x)\n",
    "x_str = str(x)\n",
    "print(\"my fav num is\", x, \".\", \"x =\", x)\n",
    "print(\"my fav num is \" + x_str + \". \" + \"x = \" + x_str)"
   ]
  },
  {
   "cell_type": "markdown",
   "metadata": {},
   "source": [
    "#### input(\"\")"
   ]
  },
  {
   "cell_type": "code",
   "execution_count": 15,
   "metadata": {},
   "outputs": [
    {
     "name": "stdout",
     "output_type": "stream",
     "text": [
      "55555\n"
     ]
    }
   ],
   "source": [
    "text = input(\"Enter Anything ... \")\n",
    "print(text*5)"
   ]
  },
  {
   "cell_type": "code",
   "execution_count": 14,
   "metadata": {},
   "outputs": [
    {
     "name": "stdout",
     "output_type": "stream",
     "text": [
      "30\n"
     ]
    }
   ],
   "source": [
    "num = int(input(\"Type a number... \"))\n",
    "print(5*num)"
   ]
  },
  {
   "cell_type": "markdown",
   "metadata": {},
   "source": [
    "### COMPARISON OPERATORS ON \n",
    "#### int, float, string\n",
    "* i and j are variable names\n",
    "* Comparisons below evaluate to a Boolean <br>\n",
    "i > j<br>\n",
    "i >= j<br>\n",
    "i < j<br>\n",
    "i <= j<br>\n",
    "i == j -> equality test, True if i is the same as j <br>\n",
    "i != j -> inequality test, True if i not the same as j\n",
    "\n",
    "\n",
    "### LOGIC OPERATORS ON bools\n",
    "* a and b are variable names (with Boolean values) <br>\n",
    "* not a -> True if a is False<br>\n",
    "False if a is True<br>\n",
    "* a and b -> True if both are True<br>\n",
    "* a or b -> True if either or both are True<br>\n"
   ]
  },
  {
   "cell_type": "code",
   "execution_count": 14,
   "metadata": {},
   "outputs": [
    {
     "name": "stdout",
     "output_type": "stream",
     "text": [
      "False\n",
      "False\n"
     ]
    }
   ],
   "source": [
    "pset_time = 15\n",
    "sleep_time = 8\n",
    "print(sleep_time > pset_time)\n",
    "derive = True\n",
    "drink = False\n",
    "both = drink and derive\n",
    "print(both)"
   ]
  },
  {
   "cell_type": "markdown",
   "metadata": {},
   "source": [
    "### CONTROL FLOW - BRANCHING\n",
    "\n",
    "$ if <condition>:$<br>\n",
    "$<expression>$<br>\n",
    "$<expression>$<br>\n",
    "$   ...$<br>\n",
    "$elif <condition>:$<br>\n",
    "$   <expression> $<br>\n",
    "$   <expression>$<br>\n",
    "$   ...$<br>\n",
    "$else:$<br>\n",
    "$   <expression>$<br>\n",
    "$   <expression>$<br>\n",
    "$   ...$"
   ]
  },
  {
   "cell_type": "code",
   "execution_count": 17,
   "metadata": {},
   "outputs": [
    {
     "name": "stdout",
     "output_type": "stream",
     "text": [
      "x and y are equal\n",
      "therefore, x / y is 1.0\n",
      "thanks!\n"
     ]
    }
   ],
   "source": [
    "x = float(input(\"Enter a number for x: \"))\n",
    "y = float(input(\"Enter a number for y: \"))\n",
    "if x == y:\n",
    "    print(\"x and y are equal\")\n",
    "    if y != 0:\n",
    "        z = x/y\n",
    "        print(\"therefore, x / y is\",z)\n",
    "elif x < y:\n",
    "    print(\"x is smaller\")\n",
    "else:\n",
    "    print(\"y is smaller\")\n",
    "print(\"thanks!\")"
   ]
  },
  {
   "cell_type": "markdown",
   "metadata": {},
   "source": [
    "### CONTROL FLOW: \n",
    "#### while LOOPS\n",
    "$while <condition>:$<br>\n",
    "$<expression>$<br>\n",
    "$<expression>$ <br>\n",
    "$...$\n",
    "\n",
    "#### for LOOPS\n",
    "$for <variable> in range(<somenum>):$<br>\n",
    "$<expression>$<br>\n",
    "$<expression>$<br>\n",
    "$...$"
   ]
  },
  {
   "cell_type": "code",
   "execution_count": 18,
   "metadata": {},
   "outputs": [
    {
     "name": "stdout",
     "output_type": "stream",
     "text": [
      "You got out of the Lost Forest!\n"
     ]
    }
   ],
   "source": [
    "n = input(\"You're in the Lost Forest. Go left or right? \")\n",
    "while n == \"right\":\n",
    "    n = input(\"You're in the Lost Forest. Go left or right? \")\n",
    "print(\"You got out of the Lost Forest!\")"
   ]
  },
  {
   "cell_type": "markdown",
   "metadata": {},
   "source": [
    "#### while and for LOOPS"
   ]
  },
  {
   "cell_type": "code",
   "execution_count": 17,
   "metadata": {},
   "outputs": [
    {
     "name": "stdout",
     "output_type": "stream",
     "text": [
      "0\n",
      "1\n",
      "2\n",
      "3\n",
      "4\n",
      "0\n",
      "1\n",
      "2\n",
      "3\n",
      "4\n"
     ]
    }
   ],
   "source": [
    "# more complicated with while loop\n",
    "n = 0\n",
    "while n < 5:\n",
    "    print(n)\n",
    "    n = n+1\n",
    "# shortcut with for loop\n",
    "for n in range(5):\n",
    "    print(n)\n"
   ]
  },
  {
   "cell_type": "markdown",
   "metadata": {},
   "source": [
    "#### Range "
   ]
  },
  {
   "cell_type": "code",
   "execution_count": 21,
   "metadata": {},
   "outputs": [
    {
     "name": "stdout",
     "output_type": "stream",
     "text": [
      "24\n",
      "5\n",
      "7\n",
      "9\n",
      "11\n",
      "13\n",
      "45\n"
     ]
    }
   ],
   "source": [
    "mysum = 0\n",
    "for i in range(7, 10):\n",
    "    mysum += i\n",
    "print(mysum)\n",
    "mysum = 0\n",
    "for i in range(5, 14, 2):\n",
    "    mysum += i\n",
    "    print(i)\n",
    "print(mysum)"
   ]
  },
  {
   "cell_type": "markdown",
   "metadata": {},
   "source": [
    "#### Break Statement"
   ]
  },
  {
   "cell_type": "code",
   "execution_count": 22,
   "metadata": {},
   "outputs": [
    {
     "name": "stdout",
     "output_type": "stream",
     "text": [
      "12\n"
     ]
    }
   ],
   "source": [
    "mysum = 0\n",
    "for i in range(5, 11, 2):\n",
    "    mysum += i\n",
    "    if mysum == 12:\n",
    "        break\n",
    "        mysum += 1\n",
    "print(mysum)"
   ]
  }
 ],
 "metadata": {
  "interpreter": {
   "hash": "6d46af94c2bbce495f1e668725902fa517c90b1782bcfe2fce0dd9868df553d3"
  },
  "kernelspec": {
   "display_name": "Python 3.8.10 64-bit ('base': conda)",
   "language": "python",
   "name": "python3"
  },
  "language_info": {
   "codemirror_mode": {
    "name": "ipython",
    "version": 3
   },
   "file_extension": ".py",
   "mimetype": "text/x-python",
   "name": "python",
   "nbconvert_exporter": "python",
   "pygments_lexer": "ipython3",
   "version": "3.8.10"
  },
  "orig_nbformat": 4
 },
 "nbformat": 4,
 "nbformat_minor": 2
}
